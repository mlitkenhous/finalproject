{
 "cells": [
  {
   "cell_type": "code",
   "execution_count": 3,
   "metadata": {},
   "outputs": [],
   "source": [
    "import pandas as pd\n",
    "import numpy as np\n",
    "import matplotlib.pyplot as plt\n",
    "import matplotlib.mlab as mlab\n",
    "\n",
    "\n",
    "#import csv and change column names\n",
    "columns = ['ID', 'A2','A3', 'A4', 'A5', 'A6', 'A7', 'A8', 'A9', 'A10', 'CLASS']\n",
    "df = pd.read_csv(\"wisconsinbreastcancer.txt\", sep=',', names=columns)\n",
    "df['A7']=df['A7'].replace('?',np.NaN)\n",
    "\n",
    "#convert back to numeric\n",
    "df['A7'] = pd.to_numeric(df['A7'], errors='coerce')\n",
    "\n",
    "#•Report how many NaN.\n",
    "countNaN=df['A7'].isnull().sum()\n",
    "\n",
    "\n",
    "#change values of NaN to mean\n",
    "df['A7'] = df['A7'].fillna((df['A7'].mean()))\n",
    "\n",
    "df = df.astype(int)"
   ]
  },
  {
   "cell_type": "code",
   "execution_count": 4,
   "metadata": {},
   "outputs": [
    {
     "data": {
      "text/html": [
       "<div>\n",
       "<style scoped>\n",
       "    .dataframe tbody tr th:only-of-type {\n",
       "        vertical-align: middle;\n",
       "    }\n",
       "\n",
       "    .dataframe tbody tr th {\n",
       "        vertical-align: top;\n",
       "    }\n",
       "\n",
       "    .dataframe thead th {\n",
       "        text-align: right;\n",
       "    }\n",
       "</style>\n",
       "<table border=\"1\" class=\"dataframe\">\n",
       "  <thead>\n",
       "    <tr style=\"text-align: right;\">\n",
       "      <th></th>\n",
       "      <th>A2</th>\n",
       "      <th>A3</th>\n",
       "      <th>A4</th>\n",
       "      <th>A5</th>\n",
       "      <th>A6</th>\n",
       "      <th>A7</th>\n",
       "      <th>A8</th>\n",
       "      <th>A9</th>\n",
       "      <th>A10</th>\n",
       "    </tr>\n",
       "  </thead>\n",
       "  <tbody>\n",
       "    <tr>\n",
       "      <th>0</th>\n",
       "      <td>5</td>\n",
       "      <td>1</td>\n",
       "      <td>1</td>\n",
       "      <td>1</td>\n",
       "      <td>2</td>\n",
       "      <td>1</td>\n",
       "      <td>3</td>\n",
       "      <td>1</td>\n",
       "      <td>1</td>\n",
       "    </tr>\n",
       "    <tr>\n",
       "      <th>1</th>\n",
       "      <td>5</td>\n",
       "      <td>4</td>\n",
       "      <td>4</td>\n",
       "      <td>5</td>\n",
       "      <td>7</td>\n",
       "      <td>10</td>\n",
       "      <td>3</td>\n",
       "      <td>2</td>\n",
       "      <td>1</td>\n",
       "    </tr>\n",
       "    <tr>\n",
       "      <th>2</th>\n",
       "      <td>3</td>\n",
       "      <td>1</td>\n",
       "      <td>1</td>\n",
       "      <td>1</td>\n",
       "      <td>2</td>\n",
       "      <td>2</td>\n",
       "      <td>3</td>\n",
       "      <td>1</td>\n",
       "      <td>1</td>\n",
       "    </tr>\n",
       "    <tr>\n",
       "      <th>3</th>\n",
       "      <td>6</td>\n",
       "      <td>8</td>\n",
       "      <td>8</td>\n",
       "      <td>1</td>\n",
       "      <td>3</td>\n",
       "      <td>4</td>\n",
       "      <td>3</td>\n",
       "      <td>7</td>\n",
       "      <td>1</td>\n",
       "    </tr>\n",
       "    <tr>\n",
       "      <th>4</th>\n",
       "      <td>4</td>\n",
       "      <td>1</td>\n",
       "      <td>1</td>\n",
       "      <td>3</td>\n",
       "      <td>2</td>\n",
       "      <td>1</td>\n",
       "      <td>3</td>\n",
       "      <td>1</td>\n",
       "      <td>1</td>\n",
       "    </tr>\n",
       "  </tbody>\n",
       "</table>\n",
       "</div>"
      ],
      "text/plain": [
       "   A2  A3  A4  A5  A6  A7  A8  A9  A10\n",
       "0   5   1   1   1   2   1   3   1    1\n",
       "1   5   4   4   5   7  10   3   2    1\n",
       "2   3   1   1   1   2   2   3   1    1\n",
       "3   6   8   8   1   3   4   3   7    1\n",
       "4   4   1   1   3   2   1   3   1    1"
      ]
     },
     "execution_count": 4,
     "metadata": {},
     "output_type": "execute_result"
    }
   ],
   "source": [
    "#use only columns A2-A10\n",
    "df1=df.drop([\"ID\",\"CLASS\"],axis=1)\n",
    "df1.head()"
   ]
  },
  {
   "cell_type": "code",
   "execution_count": 5,
   "metadata": {},
   "outputs": [
    {
     "name": "stdout",
     "output_type": "stream",
     "text": [
      "[0 2 0 3 0 1 0 0 0 0 0 0 0 0 1 3 0 0 2 0 2 3 0 3 0 2 0 0 0 0 0 0 3 0 0 0 3\n",
      " 0 2 2 3 3 1 3 3 0 2 0 0 3 3 0 3 1 2 3 3 3 2 3 3 0 3 3 0 3 0 2 1 0 0 3 0 2\n",
      " 3 0 0 0 0 0 0 0 0 0 1 3 2 1 0 0 0 0 0 0 0 0 0 0 3 1 3 0 0 0 1 0 2 1 0 2 0\n",
      " 2 2 1 0 0 0 1 0 0 0 0 1 2 1 0 2 0 2 0 0 0 1 0 0 0 0 0 0 0 0 0 2 0 0 0 2 0\n",
      " 0 1 0 2 3 0 0 2 0 0 0 1 2 0 0 0 0 0 1 3 0 0 0 0 0 1 2 1 0 3 0 2 0 0 0 1 2\n",
      " 0 1 1 1 0 1 1 0 0 0 0 2 0 0 0 1 2 0 0 0 1 3 0 0 0 1 1 0 1 1 3 0 0 3 0 0 1\n",
      " 0 2 2 0 2 3 0 1 2 1 3 2 0 0 1 3 1 2 0 0 0 0 0 0 1 2 0 0 0 2 2 1 3 2 0 0 0\n",
      " 2 2 1 1 2 3 0 2 2 3 0 2 0 2 0 0 0 0 0 0 2 0 0 2 2 2 1 1 0 3 1 0 0 3 2 0 2\n",
      " 3 0 0 2 3 0 1 0 2 2 0 0 3 0 0 0 3 0 0 3 2 1 0 2 2 0 0 2 0 0 2 0 3 2 2 0 0\n",
      " 2 2 0 2 0 0 2 2 0 0 0 1 0 0 0 3 2 0 0 3 1 0 0 0 1 3 2 1 2 0 0 0 0 1 1 0 0\n",
      " 0 0 0 0 0 0 0 0 0 0 0 2 0 0 0 0 2 0 0 0 0 1 0 0 0 0 0 0 0 0 1 0 0 0 0 0 0\n",
      " 0 0 0 0 0 3 0 2 0 2 0 0 0 0 1 0 0 0 1 0 3 0 0 0 0 0 0 2 2 3 0 0 0 2 0 0 0\n",
      " 0 0 0 0 0 1 0 0 0 1 0 0 2 3 0 0 0 0 0 0 0 3 2 2 0 0 0 0 0 0 0 0 0 0 0 1 0\n",
      " 0 1 1 0 0 0 1 3 0 0 2 0 1 2 0 0 0 0 0 0 0 0 0 0 0 1 0 0 0 0 0 0 0 1 1 0 0\n",
      " 0 2 0 0 2 2 0 0 0 0 0 0 2 0 0 0 0 0 0 0 0 0 0 0 0 0 0 0 1 0 0 3 0 0 0 0 0\n",
      " 0 0 0 0 0 0 0 0 0 0 1 0 0 2 1 2 1 0 0 3 0 0 0 0 0 0 1 1 0 0 0 1 0 3 0 3 2\n",
      " 2 0 2 0 0 0 0 0 0 0 0 3 2 3 0 0 1 0 2 3 1 0 0 0 0 0 0 0 0 0 0 0 0 0 3 0 0\n",
      " 0 0 0 0 3 0 0 3 0 0 0 0 0 0 0 0 0 0 0 1 0 0 0 0 0 0 0 0 3 2 0 0 0 0 0 0 0\n",
      " 0 0 3 1 1 0 0 0 0 0 0 0 0 0 1 1 0 0 0 0 0 0 0 0 0 3 0 0 0 0 3 3 3]\n"
     ]
    }
   ],
   "source": [
    "#import KMeans - use sklearn.cluster create KMeans model for n_cluster = 4\n",
    "\n",
    "from sklearn.cluster import KMeans\n",
    "km = KMeans(n_clusters=4)\n",
    "\n",
    "#fit model to your data\n",
    "km.fit(df1)\n",
    "x=km.fit_predict(df1)\n",
    "print(x)"
   ]
  },
  {
   "cell_type": "code",
   "execution_count": 9,
   "metadata": {},
   "outputs": [
    {
     "name": "stdout",
     "output_type": "stream",
     "text": [
      "[[4.06772908 1.25099602 1.40239044 1.34661355 2.02390438 1.26693227\n",
      "  2.01992032 1.15936255 1.02788845]\n",
      " [6.86956522 9.7826087  9.47826087 8.95652174 5.95652174 9.69565217\n",
      "  7.60869565 6.43478261 2.47826087]\n",
      " [8.         8.875      7.625      2.4375     5.375      2.875\n",
      "  5.0625     8.9375     2.0625    ]\n",
      " [4.04761905 3.42857143 3.47619048 4.         4.52380952 3.42857143\n",
      "  4.         5.95238095 1.        ]\n",
      " [9.05882353 3.29411765 4.17647059 3.17647059 3.35294118 9.64705882\n",
      "  4.29411765 3.58823529 1.58823529]\n",
      " [7.07692308 4.53846154 4.26923077 9.19230769 4.65384615 9.61538462\n",
      "  5.69230769 3.61538462 2.42307692]\n",
      " [8.83333333 9.33333333 8.91666667 3.08333333 9.33333333 9.08333333\n",
      "  6.66666667 3.08333333 1.66666667]\n",
      " [8.1        9.25       8.9        7.95       8.45       7.25\n",
      "  6.6        8.5        9.05      ]\n",
      " [5.92857143 5.67857143 5.82142857 3.25       4.25       9.60714286\n",
      "  5.         2.10714286 1.35714286]\n",
      " [1.24468085 1.12234043 1.21276596 1.13829787 1.97340426 1.29787234\n",
      "  1.99468085 1.06382979 1.10106383]\n",
      " [8.46428571 5.71428571 6.25       3.53571429 4.60714286 9.10714286\n",
      "  6.39285714 8.60714286 2.17857143]\n",
      " [8.33333333 3.76190476 4.28571429 2.         3.23809524 3.28571429\n",
      "  4.14285714 2.57142857 2.76190476]\n",
      " [7.25       8.41666667 7.66666667 7.125      5.41666667 3.41666667\n",
      "  7.45833333 6.95833333 1.5       ]\n",
      " [4.33333333 6.5        7.08333333 7.875      6.08333333 9.29166667\n",
      "  6.79166667 8.91666667 2.125     ]]\n"
     ]
    }
   ],
   "source": [
    "#calculate centroids\n",
    "\n",
    "centroids = km.cluster_centers_\n",
    "\n",
    "#print centroids \n",
    "print(centroids)"
   ]
  },
  {
   "cell_type": "code",
   "execution_count": 10,
   "metadata": {},
   "outputs": [
    {
     "data": {
      "image/png": "[encoded data removed]",
      "text/plain": [
       "<Figure size 432x288 with 1 Axes>"
      ]
     },
     "metadata": {
      "needs_background": "light"
     },
     "output_type": "display_data"
    },
    {
     "name": "stdout",
     "output_type": "stream",
     "text": [
      "The elbow point is at 2, so the optimal number of clusters is 2.\n"
     ]
    }
   ],
   "source": [
    "#create a range from 1 to 15 or more\n",
    "ks = range(1, 15)\n",
    "\n",
    "#create an empty list for inertias values \n",
    "inertias = []\n",
    "\n",
    "#use for loop to calculate KMeans for each values\n",
    "for k in ks:\n",
    "    km = KMeans(n_clusters=k)\n",
    "    km=km.fit(df1)\n",
    "    inertias.append(km.inertia_)\n",
    "     \n",
    "\n",
    "# Plot ks vs inertias\n",
    "plt.plot(ks, inertias, 'bx-')\n",
    "plt.xlabel('Number of Clusters, k')\n",
    "plt.ylabel('Inertia')\n",
    "plt.title('Elbow Method For Optimal k')\n",
    "plt.xticks(ks)\n",
    "plt.show()\n",
    "\n",
    "print(\"The elbow point is at 2, so the optimal number of clusters is 2.\")"
   ]
  },
  {
   "cell_type": "code",
   "execution_count": 47,
   "metadata": {},
   "outputs": [
    {
     "name": "stdout",
     "output_type": "stream",
     "text": [
      "     Stan Dev\n",
      "A2        2.8\n",
      "A3        3.1\n",
      "A4        3.0\n",
      "A5        2.9\n",
      "A6        2.2\n",
      "A7        3.6\n",
      "A8        2.4\n",
      "A9        3.1\n",
      "A10       1.7\n"
     ]
    }
   ],
   "source": [
    "stat_tab = pd.DataFrame()\n",
    "#Calc sd and fill\n",
    "sd_col = (df1.std())\n",
    "stat_tab['Stan Dev'] = round(sd_col,1)\n",
    "print(stat_tab)\n",
    "\n",
    "axis_col = (df1.std())\n",
    "stat_tab['Stan Dev'] = round(sd_col,1)"
   ]
  },
  {
   "cell_type": "code",
   "execution_count": 50,
   "metadata": {},
   "outputs": [
    {
     "data": {
      "text/plain": [
       "<matplotlib.collections.PathCollection at 0x248220fbf98>"
      ]
     },
     "execution_count": 50,
     "metadata": {},
     "output_type": "execute_result"
    },
    {
     "data": {
      "image/png": "[encoded data removed]",
      "text/plain": [
       "<Figure size 432x288 with 1 Axes>"
      ]
     },
     "metadata": {
      "needs_background": "light"
     },
     "output_type": "display_data"
    }
   ],
   "source": [
    "plt.scatter(stat_tab.index, stat_tab['Stan Dev'])\n"
   ]
  },
  {
   "cell_type": "code",
   "execution_count": 60,
   "metadata": {},
   "outputs": [
    {
     "name": "stdout",
     "output_type": "stream",
     "text": [
      "[[-0.49242566 -0.60498902 -0.59950463 -0.51517139 -0.50979898 -0.57996368\n",
      "  -0.54338987 -0.52954512 -0.30384439]\n",
      " [ 0.98485132  1.20997804  1.19900927  1.03034277  1.01959796  1.15992736\n",
      "   1.08677975  1.05909024  0.60768878]]\n"
     ]
    }
   ],
   "source": [
    "#import make_pipeline and StandardScalar\n",
    "from sklearn.pipeline import make_pipeline \n",
    "from sklearn.preprocessing import StandardScaler\n",
    "\n",
    "# Create scaler: scaler\n",
    "scaler = StandardScaler()\n",
    "\n",
    "# Create KMeans instance: k\n",
    "k = KMeans(n_clusters=2)\n",
    "\n",
    "# Create pipeline: pipeline\n",
    "pipeline = make_pipeline(scaler, k)\n",
    "\n",
    "pipeline.fit(df1)\n",
    "centroids = k.cluster_centers_\n",
    "\n",
    "print(centroids)"
   ]
  },
  {
   "cell_type": "code",
   "execution_count": null,
   "metadata": {},
   "outputs": [],
   "source": []
  }
 ],
 "metadata": {
  "kernelspec": {
   "display_name": "Python 3",
   "language": "python",
   "name": "python3"
  },
  "language_info": {
   "codemirror_mode": {
    "name": "ipython",
    "version": 3
   },
   "file_extension": ".py",
   "mimetype": "text/x-python",
   "name": "python",
   "nbconvert_exporter": "python",
   "pygments_lexer": "ipython3",
   "version": "3.7.0"
  }
 },
 "nbformat": 4,
 "nbformat_minor": 2
}
